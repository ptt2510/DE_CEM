{
  "nbformat": 4,
  "nbformat_minor": 0,
  "metadata": {
    "colab": {
      "provenance": []
    },
    "kernelspec": {
      "name": "python3",
      "display_name": "Python 3"
    },
    "language_info": {
      "name": "python"
    }
  },
  "cells": [
    {
      "cell_type": "code",
      "execution_count": 14,
      "metadata": {
        "id": "cZJNUe0oBhP2"
      },
      "outputs": [],
      "source": [
        "import matplotlib.pyplot as plt\n",
        "import numpy as np\n",
        "import imageio\n",
        "import os\n",
        "\n"
      ]
    },
    {
      "cell_type": "code",
      "source": [
        "# Sphere\n",
        "def Sphere_f(x):\n",
        "    f = 0\n",
        "    for i in x:\n",
        "        f += i**2\n",
        "    return f\n",
        "\n",
        "# Michalewicz\n",
        "def Michalewicz_f(x,m=10):\n",
        "    d = len(x)\n",
        "    j = np.arange(1, d+1)\n",
        "    return -np.sum(np.sin(x) * np.sin(j*x**2/np.pi)**(2*m))\n",
        "\n",
        "# Rosenbrock\n",
        "def Rosenbrock_f(x):\n",
        "    f = 0\n",
        "    for i in range(len(x) - 1):\n",
        "        f += (100*((x[i + 1] - x[i]**2)**2) + (1 -x[i])**2)\n",
        "    return f\n",
        "\n",
        "# Griewank\n",
        "def Griewank_f(x):\n",
        "    f1 = 0\n",
        "    for i in x:\n",
        "        f1 += (i*i)/4000\n",
        "    f2 = 1\n",
        "    for i in range(len(x)):\n",
        "        f2 *= np.cos(x[i]/math.sqrt(i+1))\n",
        "    return f1 - f2 + 1\n",
        "\n",
        "# Ackley\n",
        "def Ackley_f(x):\n",
        "    a = 20\n",
        "    b = 0.2\n",
        "    c = 2 * np.pi\n",
        "    f1 = 0\n",
        "    f2 = 0\n",
        "    for i in range(len(x)):\n",
        "        f1 += x[i] ** 2\n",
        "        f2 += np.cos(c * x[i])\n",
        "    p1 = -a * np.exp(-b * np.sqrt(f1 / len(x)))\n",
        "    p2 = -np.exp(f2 / len(x))\n",
        "\n",
        "    return p1 + p2 + a + np.exp(1)"
      ],
      "metadata": {
        "id": "OJqsMlPzBuRw"
      },
      "execution_count": 15,
      "outputs": []
    },
    {
      "cell_type": "code",
      "source": [
        "def DE(fobj, dimension, bounds, F_scale, cross_prob, popsize, max_evals):\n",
        "\n",
        "    lower_bound, upper_bound = np.asarray(bounds).T\n",
        "\n",
        "    eps = 0.00001\n",
        "\n",
        "    diff = np.fabs(lower_bound - upper_bound)\n",
        "\n",
        "    pop = lower_bound + diff * np.random.rand(popsize, dimension)\n",
        "\n",
        "    fitness = np.asarray([fobj(ind) for ind in pop])\n",
        "    num_eval = 1\n",
        "\n",
        "    best_idx = np.argmin(fitness)\n",
        "    best = pop[best_idx]\n",
        "\n",
        "    results = []\n",
        "    all_pops = []\n",
        "    results.append((np.copy(best), fitness[best_idx], num_eval))\n",
        "    all_pops.append(np.copy(pop))\n",
        "    generation_count = 0\n",
        "    while True:\n",
        "        if num_eval > max_evals:\n",
        "            break\n",
        "        for i in range(popsize):\n",
        "            fig, ax = plt.subplots(figsize=(8, 8))\n",
        "            ax.axis('equal')\n",
        "            # ax.contourf(pop, fitness, 90, cmap=\"viridis\", alpha=0.7)\n",
        "            ax.scatter(pop[:,0], pop[:,1], c=\"magenta\")\n",
        "            ax.scatter(pop[i][0], pop[i][1], c=\"red\")\n",
        "            plt.title('Generation ' + str(generation_count))\n",
        "            idxes = [idx for idx in range(popsize) if idx != i]\n",
        "            a, b, c = pop[np.random.choice(idxes, 3, replace=False)]\n",
        "            ax.scatter(a[0], a[1], c=\"blue\")\n",
        "            ax.scatter(b[0], b[1], c=\"blue\")\n",
        "            ax.scatter(c[0], c[1], c=\"blue\")\n",
        "            mutant = np.clip(F_scale*(b - c) + a, lower_bound, upper_bound)\n",
        "            ax.scatter(mutant[0], mutant[1], c=\"green\")\n",
        "            cross_points = np.random.rand(dimension) < cross_prob\n",
        "            if not np.any(cross_points):\n",
        "                cross_points[np.random.randint(0, dimension)] = True\n",
        "\n",
        "            trial = np.where(cross_points, mutant, pop[i])\n",
        "            ax.scatter(trial[0], trial[1], c=\"yellow\")\n",
        "            ax.plot(*minimum, \"rD\")\n",
        "            plt.title('Generation ' + str(generation_count))\n",
        "             # Lưu hình ảnh\n",
        "            plt.savefig('images/gen_' + str(generation_count) + '.png')\n",
        "            plt.close()\n",
        "            f = fobj(trial)\n",
        "            num_eval += 1\n",
        "\n",
        "            if f < fitness[i]:\n",
        "                pop[i] = trial\n",
        "                fitness[i] = f\n",
        "                if f < fitness[best_idx]:\n",
        "                    best = trial\n",
        "                    best_idx = i\n",
        "\n",
        "        results.append((np.copy(best), fitness[best_idx], num_eval))\n",
        "        all_pops.append(np.copy(pop))\n",
        "\n",
        "        if fobj(best) < eps:\n",
        "            num_eval += 1\n",
        "            break\n",
        "\n",
        "        generation_count += 1\n",
        "\n",
        "        fig, ax = plt.subplots(figsize=(8, 8))\n",
        "        ax.axis('equal')\n",
        "      # ax.contourf(pop, fitness, 90, cmap=\"viridis\", alpha=0.7)\n",
        "        ax.scatter(pop[:,0], pop[:,1], c=\"magenta\")\n",
        "        ax.plot(*minimum, \"rD\")\n",
        "        plt.title('Generation ' + str(generation_count))\n",
        "\n",
        "        # Lưu hình ảnh\n",
        "        plt.savefig('images/gen_' + str(generation_count) + '.png')\n",
        "        plt.close()\n",
        "    return results, all_pops, generation_count"
      ],
      "metadata": {
        "id": "DmvP9aVIB07I"
      },
      "execution_count": 24,
      "outputs": []
    },
    {
      "cell_type": "code",
      "source": [
        "F_scale=0.8 # hệ số scale F (0,1)\n",
        "cross_prob=0.7 # xác suất hai cá thể đem đi lai ghép\n",
        "# Tạo thư mục để lưu hình ảnh\n",
        "if not os.path.exists('images'):\n",
        "    os.makedirs('images')\n",
        "all_results = []\n",
        "d = 2\n",
        "max_evals = 20000\n",
        "f = Sphere_f\n",
        "seed_number = 21522678\n",
        "N = 32 # kích thước quần thể\n",
        "lower_bound = -6\n",
        "upper_bound = 6\n",
        "np.random.rand(seed_number)\n",
        "results, all_pops, generation_count = DE(f, d, [(lower_bound, upper_bound)]*d, F_scale, cross_prob, N, max_evals)\n",
        "with imageio.get_writer('Sphere_DE.gif', mode='I') as writer:\n",
        "    for generation in range (0,generation_count):\n",
        "        image = imageio.imread('/content/images/gen_' + str(generation) + '.png')\n",
        "        writer.append_data(image)\n",
        "for generation in range (0,generation_count):\n",
        "    os.remove('/content/images/gen_' + str(generation) + '.png')"
      ],
      "metadata": {
        "colab": {
          "base_uri": "https://localhost:8080/"
        },
        "id": "--RHsWe7CWS_",
        "outputId": "f43c48ec-36cb-458d-a038-cd4bf0e92b20"
      },
      "execution_count": 9,
      "outputs": [
        {
          "output_type": "stream",
          "name": "stderr",
          "text": [
            "<ipython-input-9-42734af4e0a5>:18: DeprecationWarning: Starting with ImageIO v3 the behavior of this function will switch to that of iio.v3.imread. To keep the current behavior (and make this warning disappear) use `import imageio.v2 as imageio` or call `imageio.v2.imread` directly.\n",
            "  image = imageio.imread('/content/images/gen_' + str(generation) + '.png')\n"
          ]
        }
      ]
    },
    {
      "cell_type": "code",
      "source": [
        "import math\n",
        "F_scale=0.8 # hệ số scale F (0,1)\n",
        "cross_prob=0.7 # xác suất hai cá thể đem đi lai ghép\n",
        "# Tạo thư mục để lưu hình ảnh\n",
        "if not os.path.exists('images'):\n",
        "    os.makedirs('images')\n",
        "all_results = []\n",
        "d = 2\n",
        "max_evals = 20000\n",
        "f = Griewank_f\n",
        "minimum = (0.0, 0.0)\n",
        "seed_number = 21522678\n",
        "N = 32 # kích thước quần thể\n",
        "lower_bound = -6\n",
        "upper_bound = 6\n",
        "np.random.rand(seed_number)\n",
        "results, all_pops, generation_count = DE(f, d, [(lower_bound, upper_bound)]*d, F_scale, cross_prob, N, max_evals)\n",
        "with imageio.get_writer('Griewank_DE.gif', mode='I') as writer:\n",
        "    for generation in range (0,generation_count):\n",
        "        image = imageio.imread('/content/images/gen_' + str(generation) + '.png')\n",
        "        writer.append_data(image)\n",
        "for generation in range (0,generation_count):\n",
        "    os.remove('/content/images/gen_' + str(generation) + '.png')"
      ],
      "metadata": {
        "colab": {
          "base_uri": "https://localhost:8080/"
        },
        "id": "vnx8OdWgbBqS",
        "outputId": "ddf9f866-5bec-4661-cd9a-15c46014de02"
      },
      "execution_count": null,
      "outputs": [
        {
          "output_type": "stream",
          "name": "stderr",
          "text": [
            "<ipython-input-7-1f3bc845d719>:19: DeprecationWarning: Starting with ImageIO v3 the behavior of this function will switch to that of iio.v3.imread. To keep the current behavior (and make this warning disappear) use `import imageio.v2 as imageio` or call `imageio.v2.imread` directly.\n",
            "  image = imageio.imread('/content/images/gen_' + str(generation) + '.png')\n"
          ]
        }
      ]
    },
    {
      "cell_type": "code",
      "source": [
        "F_scale=0.8 # hệ số scale F (0,1)\n",
        "cross_prob=0.7 # xác suất hai cá thể đem đi lai ghép\n",
        "# Tạo thư mục để lưu hình ảnh\n",
        "if not os.path.exists('images'):\n",
        "    os.makedirs('images')\n",
        "all_results = []\n",
        "d = 2\n",
        "max_evals = 20000\n",
        "minimum = (1.0, 1.0)\n",
        "f = Rosenbrock_f\n",
        "seed_number = 21522678\n",
        "N = 32 # kích thước quần thể\n",
        "lower_bound = -6\n",
        "upper_bound = 6\n",
        "np.random.rand(seed_number)\n",
        "results, all_pops, generation_count = DE(f, d, [(lower_bound, upper_bound)]*d, F_scale, cross_prob, N, max_evals)\n",
        "with imageio.get_writer('Rosenbrock_DE.gif', mode='I') as writer:\n",
        "    for generation in range (0,generation_count):\n",
        "        image = imageio.imread('/content/images/gen_' + str(generation) + '.png')\n",
        "        writer.append_data(image)\n",
        "for generation in range (0,generation_count):\n",
        "    os.remove('/content/images/gen_' + str(generation) + '.png')"
      ],
      "metadata": {
        "id": "jQDI9OtDN3uC",
        "colab": {
          "base_uri": "https://localhost:8080/"
        },
        "outputId": "dd168943-29cf-470d-fd74-cc6a9d96841f"
      },
      "execution_count": 25,
      "outputs": [
        {
          "output_type": "stream",
          "name": "stderr",
          "text": [
            "<ipython-input-25-b06dc4f7777e>:18: DeprecationWarning: Starting with ImageIO v3 the behavior of this function will switch to that of iio.v3.imread. To keep the current behavior (and make this warning disappear) use `import imageio.v2 as imageio` or call `imageio.v2.imread` directly.\n",
            "  image = imageio.imread('/content/images/gen_' + str(generation) + '.png')\n"
          ]
        }
      ]
    },
    {
      "cell_type": "code",
      "source": [
        "F_scale=0.8 # hệ số scale F (0,1)\n",
        "cross_prob=0.7 # xác suất hai cá thể đem đi lai ghép\n",
        "# Tạo thư mục để lưu hình ảnh\n",
        "if not os.path.exists('images'):\n",
        "    os.makedirs('images')\n",
        "all_results = []\n",
        "d = 2\n",
        "max_evals = 20000\n",
        "f = Michalewicz_f\n",
        "seed_number = 21522678\n",
        "N = 32 # kích thước quần thể\n",
        "lower_bound = -6\n",
        "upper_bound = 6\n",
        "np.random.rand(seed_number)\n",
        "results, all_pops, generation_count = DE(f, d, [(lower_bound, upper_bound)]*d, F_scale, cross_prob, N, max_evals)\n",
        "with imageio.get_writer('Michalewicz_DE.gif', mode='I') as writer:\n",
        "    for generation in range (0,generation_count):\n",
        "        image = imageio.imread('/content/images/gen_' + str(generation) + '.png')\n",
        "        writer.append_data(image)\n",
        "for generation in range (0,generation_count):\n",
        "    os.remove('/content/images/gen_' + str(generation) + '.png')"
      ],
      "metadata": {
        "id": "snwXGu97bkXX"
      },
      "execution_count": null,
      "outputs": []
    },
    {
      "cell_type": "code",
      "source": [
        "F_scale=0.8 # hệ số scale F (0,1)\n",
        "cross_prob=0.7 # xác suất hai cá thể đem đi lai ghép\n",
        "# Tạo thư mục để lưu hình ảnh\n",
        "if not os.path.exists('images'):\n",
        "    os.makedirs('images')\n",
        "all_results = []\n",
        "d = 2\n",
        "max_evals = 20000\n",
        "minimum = (0.0, 0.0)\n",
        "f = Ackley_f\n",
        "seed_number = 21522678\n",
        "N = 32 # kích thước quần thể\n",
        "lower_bound = -6\n",
        "upper_bound = 6\n",
        "np.random.rand(seed_number)\n",
        "results, all_pops, generation_count = DE(f, d, [(lower_bound, upper_bound)]*d, F_scale, cross_prob, N, max_evals)\n",
        "with imageio.get_writer('Ackley_DE.gif', mode='I') as writer:\n",
        "    for generation in range (0,generation_count):\n",
        "        image = imageio.imread('/content/images/gen_' + str(generation) + '.png')\n",
        "        writer.append_data(image)\n",
        "for generation in range (0,generation_count):\n",
        "    os.remove('/content/images/gen_' + str(generation) + '.png')"
      ],
      "metadata": {
        "colab": {
          "base_uri": "https://localhost:8080/"
        },
        "id": "_coTaOAhboye",
        "outputId": "dabe3843-3ef7-4762-85cc-cd48eb81c578"
      },
      "execution_count": null,
      "outputs": [
        {
          "output_type": "stream",
          "name": "stderr",
          "text": [
            "<ipython-input-5-c485a1af06f1>:18: DeprecationWarning: Starting with ImageIO v3 the behavior of this function will switch to that of iio.v3.imread. To keep the current behavior (and make this warning disappear) use `import imageio.v2 as imageio` or call `imageio.v2.imread` directly.\n",
            "  image = imageio.imread('/content/images/gen_' + str(generation) + '.png')\n"
          ]
        }
      ]
    },
    {
      "cell_type": "code",
      "source": [],
      "metadata": {
        "id": "MR-N1rcmN3sE"
      },
      "execution_count": null,
      "outputs": []
    },
    {
      "cell_type": "code",
      "source": [],
      "metadata": {
        "id": "Ie5-0APNN3pS"
      },
      "execution_count": null,
      "outputs": []
    },
    {
      "cell_type": "code",
      "source": [
        "import tensorflow as tf\n",
        "def CEMv2(fobj, dimensions, bounds, popsize, num_elite, sigma_init, extra_std, seed_number):\n",
        "    np.random.seed(seed_number)\n",
        "    eps = 1e-4\n",
        "    lower_bound, upper_bound = np.asarray(bounds).T\n",
        "    sigma = sigma_init * np.eye(dimensions)\n",
        "\n",
        "    diff = np.fabs(lower_bound - upper_bound)\n",
        "    n_evals = 0\n",
        "    num_evals = [0]\n",
        "    mu = np.random.rand(dimensions) - (upper_bound + 1)\n",
        "    generation_count = 0\n",
        "    all_mu = []\n",
        "    all_sigma = []\n",
        "    all_offspring = []\n",
        "    all_elite = []\n",
        "    all_fitness = []\n",
        "    while True:\n",
        "    # for i in range(10000):\n",
        "        if n_evals > max_evals:\n",
        "            break\n",
        "        all_mu.append(mu)\n",
        "        all_sigma.append(sigma)\n",
        "\n",
        "        x = np.random.multivariate_normal(mu, sigma, popsize)\n",
        "        fitness = np.array([fobj(x[i]) for i in range(popsize)])\n",
        "        all_offspring.append(x)\n",
        "        x_lim = (0.5, 1.5)\n",
        "        y_lim = (0.5, 1.5)\n",
        "        n_seconds = 5\n",
        "        n_points = 100\n",
        "        xi = np.linspace(*x_lim, n_points)\n",
        "        yi = np.linspace(*y_lim, n_points)\n",
        "        X, Y = np.meshgrid(xi, yi)\n",
        "        Z = fobj([X, Y])\n",
        "\n",
        "\n",
        "        fig, ax = plt.subplots(figsize=(12, 12))\n",
        "        ax.axis('equal')\n",
        "        ax.contourf(X, Y, Z, 90, cmap=\"viridis\", alpha=0.7)\n",
        "        ax.scatter(x[:,0], x[:,1], c=\"magenta\")\n",
        "\n",
        "\n",
        "\n",
        "        n_evals += popsize\n",
        "        best_fitness = min(fitness)\n",
        "        all_fitness.append(best_fitness)\n",
        "        # if np.sum(x) > 1e150 or np.sum(x) < -1e150:\n",
        "        #     break\n",
        "        if np.sum(x) > 1e150 or np.sum(x) < -1e150:\n",
        "             break\n",
        "        elite_idx = fitness.argsort()[:num_elite]\n",
        "        selection = x[elite_idx]\n",
        "        ax.scatter(selection[:,0], selection[:,1], c=\"cyan\")\n",
        "        plt.title('Generation ' + str(generation_count))\n",
        "        ax.plot(*minimum, \"rD\")\n",
        "        # Lưu hình ảnh\n",
        "        plt.savefig('images/gen_' + str(generation_count) + '.png')\n",
        "        plt.close()\n",
        "\n",
        "\n",
        "        all_elite.append(elite_idx)\n",
        "        sigma = np.zeros_like(sigma)\n",
        "\n",
        "        for i in range(num_elite):\n",
        "            z = x[elite_idx[i]] - mu\n",
        "            z = z.reshape(-1, 1)\n",
        "            sigma += tf.matmul(z.T, z)\n",
        "\n",
        "        sigma += np.eye(dimensions)*extra_std\n",
        "        sigma *= (1/num_elite)\n",
        "        mu = np.mean(x[elite_idx], axis=0)\n",
        "\n",
        "        generation_count += 1\n",
        "        num_evals.append(n_evals)\n",
        "\n",
        "    all_mu.append(mu)\n",
        "    best_results = mu.copy()\n",
        "    best_fitness = fobj(mu)\n",
        "    return all_mu, all_fitness, num_evals, generation_count"
      ],
      "metadata": {
        "id": "3BnPTUlkN3mp"
      },
      "execution_count": 21,
      "outputs": []
    },
    {
      "cell_type": "code",
      "source": [
        "d = 2\n",
        "max_evals = 20000\n",
        "f =   Sphere_f\n",
        "seed_number = 21522679\n",
        "N = 32 # kích thước quần thể\n",
        "lower_bound = -6\n",
        "upper_bound = 6\n",
        "num_elite = 10\n",
        "sigma_init = 4\n",
        "extra_std = 0.01\n",
        "minimum = (0.0, 0.0)\n",
        "all_results = []\n",
        "all_fitness = []\n",
        "num_evals = []\n",
        "results, fitness, evals, generation_count = CEMv2(f, d, [(lower_bound, upper_bound)]*d, N, num_elite, sigma_init, extra_std, seed_number)\n",
        "with imageio.get_writer('sphere_cem.gif', mode='I') as writer:\n",
        "    for generation in range (0,generation_count):\n",
        "        image = imageio.imread('/content/images/gen_' + str(generation) + '.png')\n",
        "        writer.append_data(image)\n",
        "for generation in range (0,generation_count):\n",
        "    os.remove('/content/images/gen_' + str(generation) + '.png')"
      ],
      "metadata": {
        "colab": {
          "base_uri": "https://localhost:8080/"
        },
        "id": "lKd25X21N3j6",
        "outputId": "2800a19d-9bdd-47e1-bdf6-528a35bfe377"
      },
      "execution_count": 12,
      "outputs": [
        {
          "output_type": "stream",
          "name": "stderr",
          "text": [
            "<ipython-input-12-d21eccc72e63>:18: DeprecationWarning: Starting with ImageIO v3 the behavior of this function will switch to that of iio.v3.imread. To keep the current behavior (and make this warning disappear) use `import imageio.v2 as imageio` or call `imageio.v2.imread` directly.\n",
            "  image = imageio.imread('/content/images/gen_' + str(generation) + '.png')\n"
          ]
        }
      ]
    },
    {
      "cell_type": "code",
      "source": [
        "if not os.path.exists('images'):\n",
        "    os.makedirs('images')\n",
        "import math\n",
        "d = 2\n",
        "max_evals = 20000\n",
        "f =   Griewank_f\n",
        "seed_number = 21522679\n",
        "N = 32 # kích thước quần thể\n",
        "lower_bound = -6\n",
        "upper_bound = 6\n",
        "num_elite = 10\n",
        "sigma_init = 4\n",
        "extra_std = 0.01\n",
        "minimum = (0.0, 0.0)\n",
        "all_results = []\n",
        "all_fitness = []\n",
        "num_evals = []\n",
        "results, fitness, evals, generation_count = CEMv2(f, d, [(lower_bound, upper_bound)]*d, N, num_elite, sigma_init, extra_std, seed_number)\n",
        "with imageio.get_writer('Griewank_cem.gif', mode='I') as writer:\n",
        "    for generation in range (0,generation_count):\n",
        "        image = imageio.imread('/content/images/gen_' + str(generation) + '.png')\n",
        "        writer.append_data(image)\n",
        "for generation in range (0,generation_count):\n",
        "    os.remove('/content/images/gen_' + str(generation) + '.png')"
      ],
      "metadata": {
        "id": "K33F8ueGN3hS",
        "colab": {
          "base_uri": "https://localhost:8080/"
        },
        "outputId": "2ae2fdef-e884-4db6-c394-a9f58e96f261"
      },
      "execution_count": 17,
      "outputs": [
        {
          "output_type": "stream",
          "name": "stderr",
          "text": [
            "<ipython-input-17-78ff8231c62b>:21: DeprecationWarning: Starting with ImageIO v3 the behavior of this function will switch to that of iio.v3.imread. To keep the current behavior (and make this warning disappear) use `import imageio.v2 as imageio` or call `imageio.v2.imread` directly.\n",
            "  image = imageio.imread('/content/images/gen_' + str(generation) + '.png')\n"
          ]
        }
      ]
    },
    {
      "cell_type": "code",
      "source": [
        "d = 2\n",
        "max_evals = 20000\n",
        "f =   Rosenbrock_f\n",
        "seed_number = 21522678\n",
        "N = 32 # kích thước quần thể\n",
        "lower_bound = -6\n",
        "upper_bound = 6\n",
        "num_elite = 10\n",
        "sigma_init = 4\n",
        "extra_std = 0.01\n",
        "minimum = (1.0, 1.0)\n",
        "all_results = []\n",
        "all_fitness = []\n",
        "num_evals = []\n",
        "results, fitness, evals, generation_count = CEMv2(f, d, [(lower_bound, upper_bound)]*d, N, num_elite, sigma_init, extra_std, seed_number)\n",
        "with imageio.get_writer('Rosenbrock_cem.gif', mode='I') as writer:\n",
        "    for generation in range (0,generation_count):\n",
        "        image = imageio.imread('/content/images/gen_' + str(generation) + '.png')\n",
        "        writer.append_data(image)\n",
        "for generation in range (0,generation_count):\n",
        "    os.remove('/content/images/gen_' + str(generation) + '.png')"
      ],
      "metadata": {
        "id": "uQlT5QICN3ei",
        "colab": {
          "base_uri": "https://localhost:8080/"
        },
        "outputId": "1749d3da-d6a5-4ac3-bdda-1344749904d1"
      },
      "execution_count": 22,
      "outputs": [
        {
          "output_type": "stream",
          "name": "stderr",
          "text": [
            "<ipython-input-22-f4ff41e3637c>:18: DeprecationWarning: Starting with ImageIO v3 the behavior of this function will switch to that of iio.v3.imread. To keep the current behavior (and make this warning disappear) use `import imageio.v2 as imageio` or call `imageio.v2.imread` directly.\n",
            "  image = imageio.imread('/content/images/gen_' + str(generation) + '.png')\n"
          ]
        }
      ]
    },
    {
      "cell_type": "code",
      "source": [
        "d = 2\n",
        "max_evals = 20000\n",
        "f =   Michalewicz_f\n",
        "seed_number = 21522678\n",
        "N = 32 # kích thước quần thể\n",
        "lower_bound = -6\n",
        "upper_bound = 6\n",
        "num_elite = 10\n",
        "sigma_init = 4\n",
        "extra_std = 0.01\n",
        "minimum = (0.0, 0.0)\n",
        "all_results = []\n",
        "all_fitness = []\n",
        "num_evals = []\n",
        "results, fitness, evals, generation_count = CEMv2(f, d, [(lower_bound, upper_bound)]*d, N, num_elite, sigma_init, extra_std, seed_number)\n",
        "with imageio.get_writer('Michalewicz_cem.gif', mode='I') as writer:\n",
        "    for generation in range (0,generation_count):\n",
        "        image = imageio.imread('/content/images/gen_' + str(generation) + '.png')\n",
        "        writer.append_data(image)\n",
        "for generation in range (0,generation_count):\n",
        "    os.remove('/content/images/gen_' + str(generation) + '.png')"
      ],
      "metadata": {
        "id": "6rHAyXxVN3by",
        "colab": {
          "base_uri": "https://localhost:8080/",
          "height": 373
        },
        "outputId": "af52fb5a-3d5c-4b03-eb8e-4126fec7840a"
      },
      "execution_count": null,
      "outputs": [
        {
          "output_type": "error",
          "ename": "TypeError",
          "evalue": "unsupported operand type(s) for ** or pow(): 'list' and 'int'",
          "traceback": [
            "\u001b[0;31m---------------------------------------------------------------------------\u001b[0m",
            "\u001b[0;31mTypeError\u001b[0m                                 Traceback (most recent call last)",
            "\u001b[0;32m<ipython-input-12-1ad2fdefe042>\u001b[0m in \u001b[0;36m<cell line: 15>\u001b[0;34m()\u001b[0m\n\u001b[1;32m     13\u001b[0m \u001b[0mall_fitness\u001b[0m \u001b[0;34m=\u001b[0m \u001b[0;34m[\u001b[0m\u001b[0;34m]\u001b[0m\u001b[0;34m\u001b[0m\u001b[0;34m\u001b[0m\u001b[0m\n\u001b[1;32m     14\u001b[0m \u001b[0mnum_evals\u001b[0m \u001b[0;34m=\u001b[0m \u001b[0;34m[\u001b[0m\u001b[0;34m]\u001b[0m\u001b[0;34m\u001b[0m\u001b[0;34m\u001b[0m\u001b[0m\n\u001b[0;32m---> 15\u001b[0;31m \u001b[0mresults\u001b[0m\u001b[0;34m,\u001b[0m \u001b[0mfitness\u001b[0m\u001b[0;34m,\u001b[0m \u001b[0mevals\u001b[0m\u001b[0;34m,\u001b[0m \u001b[0mgeneration_count\u001b[0m \u001b[0;34m=\u001b[0m \u001b[0mCEMv2\u001b[0m\u001b[0;34m(\u001b[0m\u001b[0mf\u001b[0m\u001b[0;34m,\u001b[0m \u001b[0md\u001b[0m\u001b[0;34m,\u001b[0m \u001b[0;34m[\u001b[0m\u001b[0;34m(\u001b[0m\u001b[0mlower_bound\u001b[0m\u001b[0;34m,\u001b[0m \u001b[0mupper_bound\u001b[0m\u001b[0;34m)\u001b[0m\u001b[0;34m]\u001b[0m\u001b[0;34m*\u001b[0m\u001b[0md\u001b[0m\u001b[0;34m,\u001b[0m \u001b[0mN\u001b[0m\u001b[0;34m,\u001b[0m \u001b[0mnum_elite\u001b[0m\u001b[0;34m,\u001b[0m \u001b[0msigma_init\u001b[0m\u001b[0;34m,\u001b[0m \u001b[0mextra_std\u001b[0m\u001b[0;34m,\u001b[0m \u001b[0mseed_number\u001b[0m\u001b[0;34m)\u001b[0m\u001b[0;34m\u001b[0m\u001b[0;34m\u001b[0m\u001b[0m\n\u001b[0m\u001b[1;32m     16\u001b[0m \u001b[0;32mwith\u001b[0m \u001b[0mimageio\u001b[0m\u001b[0;34m.\u001b[0m\u001b[0mget_writer\u001b[0m\u001b[0;34m(\u001b[0m\u001b[0;34m'Michalewicz_cem.gif'\u001b[0m\u001b[0;34m,\u001b[0m \u001b[0mmode\u001b[0m\u001b[0;34m=\u001b[0m\u001b[0;34m'I'\u001b[0m\u001b[0;34m)\u001b[0m \u001b[0;32mas\u001b[0m \u001b[0mwriter\u001b[0m\u001b[0;34m:\u001b[0m\u001b[0;34m\u001b[0m\u001b[0;34m\u001b[0m\u001b[0m\n\u001b[1;32m     17\u001b[0m     \u001b[0;32mfor\u001b[0m \u001b[0mgeneration\u001b[0m \u001b[0;32min\u001b[0m \u001b[0mrange\u001b[0m \u001b[0;34m(\u001b[0m\u001b[0;36m0\u001b[0m\u001b[0;34m,\u001b[0m\u001b[0mgeneration_count\u001b[0m\u001b[0;34m)\u001b[0m\u001b[0;34m:\u001b[0m\u001b[0;34m\u001b[0m\u001b[0;34m\u001b[0m\u001b[0m\n",
            "\u001b[0;32m<ipython-input-7-35ba6d987186>\u001b[0m in \u001b[0;36mCEMv2\u001b[0;34m(fobj, dimensions, bounds, popsize, num_elite, sigma_init, extra_std, seed_number)\u001b[0m\n\u001b[1;32m     33\u001b[0m         \u001b[0myi\u001b[0m \u001b[0;34m=\u001b[0m \u001b[0mnp\u001b[0m\u001b[0;34m.\u001b[0m\u001b[0mlinspace\u001b[0m\u001b[0;34m(\u001b[0m\u001b[0;34m*\u001b[0m\u001b[0my_lim\u001b[0m\u001b[0;34m,\u001b[0m \u001b[0mn_points\u001b[0m\u001b[0;34m)\u001b[0m\u001b[0;34m\u001b[0m\u001b[0;34m\u001b[0m\u001b[0m\n\u001b[1;32m     34\u001b[0m         \u001b[0mX\u001b[0m\u001b[0;34m,\u001b[0m \u001b[0mY\u001b[0m \u001b[0;34m=\u001b[0m \u001b[0mnp\u001b[0m\u001b[0;34m.\u001b[0m\u001b[0mmeshgrid\u001b[0m\u001b[0;34m(\u001b[0m\u001b[0mxi\u001b[0m\u001b[0;34m,\u001b[0m \u001b[0myi\u001b[0m\u001b[0;34m)\u001b[0m\u001b[0;34m\u001b[0m\u001b[0;34m\u001b[0m\u001b[0m\n\u001b[0;32m---> 35\u001b[0;31m         \u001b[0mZ\u001b[0m \u001b[0;34m=\u001b[0m \u001b[0mfobj\u001b[0m\u001b[0;34m(\u001b[0m\u001b[0;34m[\u001b[0m\u001b[0mX\u001b[0m\u001b[0;34m,\u001b[0m \u001b[0mY\u001b[0m\u001b[0;34m]\u001b[0m\u001b[0;34m)\u001b[0m\u001b[0;34m\u001b[0m\u001b[0;34m\u001b[0m\u001b[0m\n\u001b[0m\u001b[1;32m     36\u001b[0m \u001b[0;34m\u001b[0m\u001b[0m\n\u001b[1;32m     37\u001b[0m \u001b[0;34m\u001b[0m\u001b[0m\n",
            "\u001b[0;32m<ipython-input-2-3c26f9ff247d>\u001b[0m in \u001b[0;36mMichalewicz_f\u001b[0;34m(x, m)\u001b[0m\n\u001b[1;32m     10\u001b[0m     \u001b[0md\u001b[0m \u001b[0;34m=\u001b[0m \u001b[0mlen\u001b[0m\u001b[0;34m(\u001b[0m\u001b[0mx\u001b[0m\u001b[0;34m)\u001b[0m\u001b[0;34m\u001b[0m\u001b[0;34m\u001b[0m\u001b[0m\n\u001b[1;32m     11\u001b[0m     \u001b[0mj\u001b[0m \u001b[0;34m=\u001b[0m \u001b[0mnp\u001b[0m\u001b[0;34m.\u001b[0m\u001b[0marange\u001b[0m\u001b[0;34m(\u001b[0m\u001b[0;36m1\u001b[0m\u001b[0;34m,\u001b[0m \u001b[0md\u001b[0m\u001b[0;34m+\u001b[0m\u001b[0;36m1\u001b[0m\u001b[0;34m)\u001b[0m\u001b[0;34m\u001b[0m\u001b[0;34m\u001b[0m\u001b[0m\n\u001b[0;32m---> 12\u001b[0;31m     \u001b[0;32mreturn\u001b[0m \u001b[0;34m-\u001b[0m\u001b[0mnp\u001b[0m\u001b[0;34m.\u001b[0m\u001b[0msum\u001b[0m\u001b[0;34m(\u001b[0m\u001b[0mnp\u001b[0m\u001b[0;34m.\u001b[0m\u001b[0msin\u001b[0m\u001b[0;34m(\u001b[0m\u001b[0mx\u001b[0m\u001b[0;34m)\u001b[0m \u001b[0;34m*\u001b[0m \u001b[0mnp\u001b[0m\u001b[0;34m.\u001b[0m\u001b[0msin\u001b[0m\u001b[0;34m(\u001b[0m\u001b[0mj\u001b[0m\u001b[0;34m*\u001b[0m\u001b[0mx\u001b[0m\u001b[0;34m**\u001b[0m\u001b[0;36m2\u001b[0m\u001b[0;34m/\u001b[0m\u001b[0mnp\u001b[0m\u001b[0;34m.\u001b[0m\u001b[0mpi\u001b[0m\u001b[0;34m)\u001b[0m\u001b[0;34m**\u001b[0m\u001b[0;34m(\u001b[0m\u001b[0;36m2\u001b[0m\u001b[0;34m*\u001b[0m\u001b[0mm\u001b[0m\u001b[0;34m)\u001b[0m\u001b[0;34m)\u001b[0m\u001b[0;34m\u001b[0m\u001b[0;34m\u001b[0m\u001b[0m\n\u001b[0m\u001b[1;32m     13\u001b[0m \u001b[0;34m\u001b[0m\u001b[0m\n\u001b[1;32m     14\u001b[0m \u001b[0;31m# Rosenbrock\u001b[0m\u001b[0;34m\u001b[0m\u001b[0;34m\u001b[0m\u001b[0m\n",
            "\u001b[0;31mTypeError\u001b[0m: unsupported operand type(s) for ** or pow(): 'list' and 'int'"
          ]
        }
      ]
    },
    {
      "cell_type": "code",
      "source": [
        "d = 2\n",
        "max_evals = 20000\n",
        "f =   Ackley_f\n",
        "seed_number = 21522678\n",
        "N = 32 # kích thước quần thể\n",
        "lower_bound = -6\n",
        "upper_bound = 6\n",
        "num_elite = 10\n",
        "sigma_init = 4\n",
        "extra_std = 0.01\n",
        "minimum = (0.0, 0.0)\n",
        "all_results = []\n",
        "all_fitness = []\n",
        "num_evals = []\n",
        "results, fitness, evals, generation_count = CEMv2(f, d, [(lower_bound, upper_bound)]*d, N, num_elite, sigma_init, extra_std, seed_number)\n",
        "with imageio.get_writer('Ackley_cem.gif', mode='I') as writer:\n",
        "    for generation in range (0,generation_count):\n",
        "        image = imageio.imread('/content/images/gen_' + str(generation) + '.png')\n",
        "        writer.append_data(image)\n",
        "for generation in range (0,generation_count):\n",
        "    os.remove('/content/images/gen_' + str(generation) + '.png')"
      ],
      "metadata": {
        "id": "uGrDCmIHN3ZE",
        "colab": {
          "base_uri": "https://localhost:8080/"
        },
        "outputId": "07fb373e-2288-4bbd-a237-9615c5da7d4d"
      },
      "execution_count": null,
      "outputs": [
        {
          "output_type": "stream",
          "name": "stderr",
          "text": [
            "<ipython-input-13-3044cf87e0c1>:18: DeprecationWarning: Starting with ImageIO v3 the behavior of this function will switch to that of iio.v3.imread. To keep the current behavior (and make this warning disappear) use `import imageio.v2 as imageio` or call `imageio.v2.imread` directly.\n",
            "  image = imageio.imread('/content/images/gen_' + str(generation) + '.png')\n"
          ]
        }
      ]
    }
  ]
}